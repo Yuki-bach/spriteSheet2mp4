{
  "nbformat": 4,
  "nbformat_minor": 0,
  "metadata": {
    "colab": {
      "provenance": [],
      "authorship_tag": "ABX9TyO6RnDgzoqmyQTwOss4MOHC",
      "include_colab_link": true
    },
    "kernelspec": {
      "name": "python3",
      "display_name": "Python 3"
    },
    "language_info": {
      "name": "python"
    }
  },
  "cells": [
    {
      "cell_type": "markdown",
      "metadata": {
        "id": "view-in-github",
        "colab_type": "text"
      },
      "source": [
        "<a href=\"https://colab.research.google.com/github/Yuki-bach/spriteSheet2mp4/blob/main/animation.ipynb\" target=\"_parent\"><img src=\"https://colab.research.google.com/assets/colab-badge.svg\" alt=\"Open In Colab\"/></a>"
      ]
    },
    {
      "cell_type": "code",
      "execution_count": null,
      "metadata": {
        "id": "_84zGU9lKI1N"
      },
      "outputs": [],
      "source": [
        "from PIL import Image, ImageSequence\n",
        "import numpy as np\n",
        "import os\n",
        "\n",
        "def save_gif(file_path, grid_rows, grid_cols, milliseconds=250):\n",
        "  sprite_sheet = Image.open(file_path)\n",
        "\n",
        "  # Convert the sprite sheet to a NumPy array\n",
        "  sprite_sheet_np = np.array(sprite_sheet)\n",
        "\n",
        "  # Get the dimensions of the sprite sheet\n",
        "  height, width, _ = sprite_sheet_np.shape\n",
        "\n",
        "  # Calculate the dimensions of each frame\n",
        "  frame_height = height // grid_rows\n",
        "  frame_width = width // grid_cols\n",
        "\n",
        "  # Initialize a list to hold the frames\n",
        "  frames = []\n",
        "\n",
        "  # Loop through the grid to extract frames\n",
        "  for row in range(grid_rows):\n",
        "    for col in range(grid_cols):\n",
        "      # Calculate the starting and ending coordinates for each frame\n",
        "      start_y = row * frame_height\n",
        "      end_y = (row + 1) * frame_height\n",
        "      start_x = col * frame_width\n",
        "      end_x = (col + 1) * frame_width\n",
        "\n",
        "      # Extract the frame\n",
        "      frame = sprite_sheet_np[start_y:end_y, start_x:end_x]\n",
        "\n",
        "      # Append the frame to the list\n",
        "      frames.append(frame)\n",
        "\n",
        "  # Create a directory to save the frames\n",
        "  frames_dir = './frames'\n",
        "  os.makedirs(frames_dir, exist_ok=True)\n",
        "\n",
        "  # Save each frame as an individual image\n",
        "  frame_paths = []\n",
        "  for i, frame in enumerate(frames):\n",
        "    frame_path = os.path.join(frames_dir, f'frame_{i+1}.png')\n",
        "    Image.fromarray(frame).save(frame_path)\n",
        "    frame_paths.append(frame_path)\n",
        "\n",
        "  # Load the first frame and prepare it for GIF creation\n",
        "  first_frame = Image.open(frame_paths[0])\n",
        "\n",
        "  # Load the rest of the frames\n",
        "  rest_frames = [Image.open(frame_path) for frame_path in frame_paths[1:]]\n",
        "\n",
        "  # Save frames as a GIF\n",
        "  gif_path = './animation.gif'\n",
        "  first_frame.save(gif_path,\n",
        "                  save_all=True, append_images=rest_frames,\n",
        "                  duration=milliseconds, loop=0)\n"
      ]
    },
    {
      "cell_type": "code",
      "source": [
        "save_gif(\"sample.png\", 3, 4, 250)"
      ],
      "metadata": {
        "id": "o_bS5y5eLaUE"
      },
      "execution_count": null,
      "outputs": []
    },
    {
      "cell_type": "code",
      "source": [
        "## animation.gifからanimation.mp4を作成する\n",
        "!ffmpeg -y -i animation.gif animation.mp4"
      ],
      "metadata": {
        "id": "wtI2jErlLzZ7"
      },
      "execution_count": null,
      "outputs": []
    }
  ]
}